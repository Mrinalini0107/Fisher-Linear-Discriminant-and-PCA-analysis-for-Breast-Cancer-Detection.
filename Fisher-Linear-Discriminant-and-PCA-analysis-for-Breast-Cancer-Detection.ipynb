{
 "cells": [
  {
   "cell_type": "markdown",
   "id": "1f096498",
   "metadata": {
    "id": "1f096498"
   },
   "source": [
    "### Problem Statement :"
   ]
  },
  {
   "cell_type": "markdown",
   "id": "b529a85f",
   "metadata": {
    "id": "b529a85f"
   },
   "source": [
    "__Part 1:__\n",
    "\n",
    "Link https://www.mathworks.com/help/deeplearning/gs/fit-data-with-a-neural-network.html, do the following:\n",
    "\n",
    "Open the Neural Net Fitting app by typing nftool at the command line. Choose the internal “Body Fat” dataset there and run the example after slightly changing the training/validation / testing percentages and the number of neurons. Submit screenshots of your outputs.  \n",
    "\n",
    "__Part 2:__\n",
    "\n",
    "Review information about MATLAB’s/Python internal dataset “bodyfat_dataset” by typing “help bodyfat_dataset“. Load the dataset by entering:\n",
    "\n",
    "[X, T] = bodyfat_dataset;\n",
    "\n",
    "__A-__ Find the correlation coefficient of each input with the output:\n",
    "\n",
    "corrcoef(X(i,:),T), i=1,2,…13.\n",
    "\n",
    "Which inputs are more suitable for linear regression? Find that linear regression (i.e. the linear mixture coefficients) by using those input variables that have better a correlation with the output, and report the results as the baseline: after the aforesaid feature selection, train (i.e. build the regression model) on the first ¾ of the samples, and then test that linear model on the rest ¼. Do so for 2 subsets. Report on the MSE of train and test as the goodness of fit measure (loss function).\n",
    "\n",
    "__B-__ (1 and 2 required for graduates, optional for undergrads with up to an extra 20 bonus points) Now use a few different types of MLP neural nets on all the 13 input feature dimensionalities. For each requested task, reset (using the command ‘init’) and retrain the neural network model at hand 10 times and report on both mean and variance on training and validation MSEs as follows:\n",
    "\n",
    "* Create a simple 15-node, one-hidden-layer regression MLP using the command ‘fitnet.’ Use the network with its default settings except for training/validation/test data partitioning ratios, which you shall set to 70%, 15%, and 15 %, respectively. Find the mean and variance of MSEs for training, validation, and testing portions of the dataset from the 10 training repetitions (with random initializations using init(net) ).\n",
    "\n",
    "* Change the network’s hidden layer size to 2 nodes and then to 80 nodes, with training, validation, and testing ratios set to 30%, 20%, and 50%; and then find the mean and variance of MSEs for training and validation portions of the dataset from the 10 training repetitions (again with random model initializations).\n",
    "\n",
    "* (Graduate section only, optional bonus, up to 10 points) For the 80-node model, have regularization (weight decay) set at 0.1 and 0.5 and the find mean and variance of MSEs for training and validation portions of the dataset from the 10 repetitions for each case."
   ]
  },
  {
   "cell_type": "markdown",
   "id": "b5e1d44a",
   "metadata": {
    "id": "b5e1d44a"
   },
   "source": [
    "### Task\n",
    "\n",
    "\n",
    "* Train an MLP regression network using fitnet n MATLAB.\n",
    "* Use default settings except for specific data partitioning ratios.\n",
    "* Run the network for 10 training repetitions with random initializations.\n",
    "* Change hidden layer sizes (15, 2, and 80) and compute the mean and variance of MSE for training, validation, and testing sets.\n",
    "* Add weight regularization for the 80-node model and analyze results.\n",
    "* Document results in a table and provide explanations."
   ]
  },
  {
   "cell_type": "markdown",
   "id": "aea2f469",
   "metadata": {
    "id": "aea2f469"
   },
   "source": [
    "#### Step 1: Setup and Libraries\n",
    "Use `TensorFlow/Keras` for the MLP and NumPy for data manipulation."
   ]
  },
  {
   "cell_type": "code",
   "execution_count": 1,
   "id": "d96d52cf",
   "metadata": {
    "id": "d96d52cf"
   },
   "outputs": [],
   "source": [
    "import pandas as pd\n",
    "import numpy as np\n",
    "from sklearn.model_selection import train_test_split\n",
    "from sklearn.preprocessing import StandardScaler"
   ]
  },
  {
   "cell_type": "markdown",
   "id": "55fad4c8",
   "metadata": {
    "id": "55fad4c8"
   },
   "source": [
    "#### Step 2: Load the Dataset\n",
    "Read the dataset."
   ]
  },
  {
   "cell_type": "code",
   "execution_count": 4,
   "id": "b7bd7e78",
   "metadata": {
    "colab": {
     "base_uri": "https://localhost:8080/",
     "height": 206
    },
    "id": "b7bd7e78",
    "outputId": "217a6893-cc8b-40df-cfd9-5de599c9f751"
   },
   "outputs": [
    {
     "data": {
      "application/vnd.google.colaboratory.intrinsic+json": {
       "summary": "{\n  \"name\": \"data\",\n  \"rows\": 252,\n  \"fields\": [\n    {\n      \"column\": \"Density\",\n      \"properties\": {\n        \"dtype\": \"number\",\n        \"std\": 0.019031434171520773,\n        \"min\": 0.995,\n        \"max\": 1.1089,\n        \"num_unique_values\": 218,\n        \"samples\": [\n          1.0547,\n          1.0236,\n          1.0873\n        ],\n        \"semantic_type\": \"\",\n        \"description\": \"\"\n      }\n    },\n    {\n      \"column\": \"BodyFat\",\n      \"properties\": {\n        \"dtype\": \"number\",\n        \"std\": 8.368740413029705,\n        \"min\": 0.0,\n        \"max\": 47.5,\n        \"num_unique_values\": 176,\n        \"samples\": [\n          19.1,\n          13.6,\n          12.1\n        ],\n        \"semantic_type\": \"\",\n        \"description\": \"\"\n      }\n    },\n    {\n      \"column\": \"Age\",\n      \"properties\": {\n        \"dtype\": \"number\",\n        \"std\": 12,\n        \"min\": 22,\n        \"max\": 81,\n        \"num_unique_values\": 51,\n        \"samples\": [\n          52,\n          72,\n          60\n        ],\n        \"semantic_type\": \"\",\n        \"description\": \"\"\n      }\n    },\n    {\n      \"column\": \"Weight\",\n      \"properties\": {\n        \"dtype\": \"number\",\n        \"std\": 29.389159885369075,\n        \"min\": 118.5,\n        \"max\": 363.15,\n        \"num_unique_values\": 197,\n        \"samples\": [\n          226.75,\n          192.25,\n          195.75\n        ],\n        \"semantic_type\": \"\",\n        \"description\": \"\"\n      }\n    },\n    {\n      \"column\": \"Height\",\n      \"properties\": {\n        \"dtype\": \"number\",\n        \"std\": 3.6628557876803165,\n        \"min\": 29.5,\n        \"max\": 77.75,\n        \"num_unique_values\": 48,\n        \"samples\": [\n          68.5,\n          77.75,\n          73.25\n        ],\n        \"semantic_type\": \"\",\n        \"description\": \"\"\n      }\n    },\n    {\n      \"column\": \"Neck\",\n      \"properties\": {\n        \"dtype\": \"number\",\n        \"std\": 2.4309132340195068,\n        \"min\": 31.1,\n        \"max\": 51.2,\n        \"num_unique_values\": 90,\n        \"samples\": [\n          39.9,\n          38.8,\n          35.9\n        ],\n        \"semantic_type\": \"\",\n        \"description\": \"\"\n      }\n    },\n    {\n      \"column\": \"Chest\",\n      \"properties\": {\n        \"dtype\": \"number\",\n        \"std\": 8.430475531920024,\n        \"min\": 79.3,\n        \"max\": 136.2,\n        \"num_unique_values\": 174,\n        \"samples\": [\n          92.8,\n          92.0,\n          103.9\n        ],\n        \"semantic_type\": \"\",\n        \"description\": \"\"\n      }\n    },\n    {\n      \"column\": \"Abdomen\",\n      \"properties\": {\n        \"dtype\": \"number\",\n        \"std\": 10.783076801381705,\n        \"min\": 69.4,\n        \"max\": 148.1,\n        \"num_unique_values\": 185,\n        \"samples\": [\n          95.9,\n          79.5,\n          103.1\n        ],\n        \"semantic_type\": \"\",\n        \"description\": \"\"\n      }\n    },\n    {\n      \"column\": \"Hip\",\n      \"properties\": {\n        \"dtype\": \"number\",\n        \"std\": 7.164057666842285,\n        \"min\": 85.0,\n        \"max\": 147.7,\n        \"num_unique_values\": 152,\n        \"samples\": [\n          100.2,\n          87.6,\n          93.2\n        ],\n        \"semantic_type\": \"\",\n        \"description\": \"\"\n      }\n    },\n    {\n      \"column\": \"Thigh\",\n      \"properties\": {\n        \"dtype\": \"number\",\n        \"std\": 5.249952028401044,\n        \"min\": 47.2,\n        \"max\": 87.3,\n        \"num_unique_values\": 139,\n        \"samples\": [\n          50.7,\n          54.8,\n          87.3\n        ],\n        \"semantic_type\": \"\",\n        \"description\": \"\"\n      }\n    },\n    {\n      \"column\": \"Knee\",\n      \"properties\": {\n        \"dtype\": \"number\",\n        \"std\": 2.4118045870187577,\n        \"min\": 33.0,\n        \"max\": 49.1,\n        \"num_unique_values\": 90,\n        \"samples\": [\n          37.6,\n          34.5,\n          39.5\n        ],\n        \"semantic_type\": \"\",\n        \"description\": \"\"\n      }\n    },\n    {\n      \"column\": \"Ankle\",\n      \"properties\": {\n        \"dtype\": \"number\",\n        \"std\": 1.6948933981786367,\n        \"min\": 19.1,\n        \"max\": 33.9,\n        \"num_unique_values\": 61,\n        \"samples\": [\n          21.9,\n          22.9,\n          24.8\n        ],\n        \"semantic_type\": \"\",\n        \"description\": \"\"\n      }\n    },\n    {\n      \"column\": \"Biceps\",\n      \"properties\": {\n        \"dtype\": \"number\",\n        \"std\": 3.0212737512508636,\n        \"min\": 24.8,\n        \"max\": 45.0,\n        \"num_unique_values\": 104,\n        \"samples\": [\n          45.0,\n          30.6,\n          32.9\n        ],\n        \"semantic_type\": \"\",\n        \"description\": \"\"\n      }\n    },\n    {\n      \"column\": \"Forearm\",\n      \"properties\": {\n        \"dtype\": \"number\",\n        \"std\": 2.0206911650269284,\n        \"min\": 21.0,\n        \"max\": 34.9,\n        \"num_unique_values\": 77,\n        \"samples\": [\n          27.7,\n          25.5,\n          30.2\n        ],\n        \"semantic_type\": \"\",\n        \"description\": \"\"\n      }\n    },\n    {\n      \"column\": \"Wrist\",\n      \"properties\": {\n        \"dtype\": \"number\",\n        \"std\": 0.9335849289587032,\n        \"min\": 15.8,\n        \"max\": 21.4,\n        \"num_unique_values\": 44,\n        \"samples\": [\n          17.5,\n          17.4,\n          16.1\n        ],\n        \"semantic_type\": \"\",\n        \"description\": \"\"\n      }\n    }\n  ]\n}",
       "type": "dataframe",
       "variable_name": "data"
      },
      "text/html": [
       "\n",
       "  <div id=\"df-c63f26fc-6f45-4690-9154-bb5846923dbe\" class=\"colab-df-container\">\n",
       "    <div>\n",
       "<style scoped>\n",
       "    .dataframe tbody tr th:only-of-type {\n",
       "        vertical-align: middle;\n",
       "    }\n",
       "\n",
       "    .dataframe tbody tr th {\n",
       "        vertical-align: top;\n",
       "    }\n",
       "\n",
       "    .dataframe thead th {\n",
       "        text-align: right;\n",
       "    }\n",
       "</style>\n",
       "<table border=\"1\" class=\"dataframe\">\n",
       "  <thead>\n",
       "    <tr style=\"text-align: right;\">\n",
       "      <th></th>\n",
       "      <th>Density</th>\n",
       "      <th>BodyFat</th>\n",
       "      <th>Age</th>\n",
       "      <th>Weight</th>\n",
       "      <th>Height</th>\n",
       "      <th>Neck</th>\n",
       "      <th>Chest</th>\n",
       "      <th>Abdomen</th>\n",
       "      <th>Hip</th>\n",
       "      <th>Thigh</th>\n",
       "      <th>Knee</th>\n",
       "      <th>Ankle</th>\n",
       "      <th>Biceps</th>\n",
       "      <th>Forearm</th>\n",
       "      <th>Wrist</th>\n",
       "    </tr>\n",
       "  </thead>\n",
       "  <tbody>\n",
       "    <tr>\n",
       "      <th>0</th>\n",
       "      <td>1.0708</td>\n",
       "      <td>12.3</td>\n",
       "      <td>23</td>\n",
       "      <td>154.25</td>\n",
       "      <td>67.75</td>\n",
       "      <td>36.2</td>\n",
       "      <td>93.1</td>\n",
       "      <td>85.2</td>\n",
       "      <td>94.5</td>\n",
       "      <td>59.0</td>\n",
       "      <td>37.3</td>\n",
       "      <td>21.9</td>\n",
       "      <td>32.0</td>\n",
       "      <td>27.4</td>\n",
       "      <td>17.1</td>\n",
       "    </tr>\n",
       "    <tr>\n",
       "      <th>1</th>\n",
       "      <td>1.0853</td>\n",
       "      <td>6.1</td>\n",
       "      <td>22</td>\n",
       "      <td>173.25</td>\n",
       "      <td>72.25</td>\n",
       "      <td>38.5</td>\n",
       "      <td>93.6</td>\n",
       "      <td>83.0</td>\n",
       "      <td>98.7</td>\n",
       "      <td>58.7</td>\n",
       "      <td>37.3</td>\n",
       "      <td>23.4</td>\n",
       "      <td>30.5</td>\n",
       "      <td>28.9</td>\n",
       "      <td>18.2</td>\n",
       "    </tr>\n",
       "    <tr>\n",
       "      <th>2</th>\n",
       "      <td>1.0414</td>\n",
       "      <td>25.3</td>\n",
       "      <td>22</td>\n",
       "      <td>154.00</td>\n",
       "      <td>66.25</td>\n",
       "      <td>34.0</td>\n",
       "      <td>95.8</td>\n",
       "      <td>87.9</td>\n",
       "      <td>99.2</td>\n",
       "      <td>59.6</td>\n",
       "      <td>38.9</td>\n",
       "      <td>24.0</td>\n",
       "      <td>28.8</td>\n",
       "      <td>25.2</td>\n",
       "      <td>16.6</td>\n",
       "    </tr>\n",
       "    <tr>\n",
       "      <th>3</th>\n",
       "      <td>1.0751</td>\n",
       "      <td>10.4</td>\n",
       "      <td>26</td>\n",
       "      <td>184.75</td>\n",
       "      <td>72.25</td>\n",
       "      <td>37.4</td>\n",
       "      <td>101.8</td>\n",
       "      <td>86.4</td>\n",
       "      <td>101.2</td>\n",
       "      <td>60.1</td>\n",
       "      <td>37.3</td>\n",
       "      <td>22.8</td>\n",
       "      <td>32.4</td>\n",
       "      <td>29.4</td>\n",
       "      <td>18.2</td>\n",
       "    </tr>\n",
       "    <tr>\n",
       "      <th>4</th>\n",
       "      <td>1.0340</td>\n",
       "      <td>28.7</td>\n",
       "      <td>24</td>\n",
       "      <td>184.25</td>\n",
       "      <td>71.25</td>\n",
       "      <td>34.4</td>\n",
       "      <td>97.3</td>\n",
       "      <td>100.0</td>\n",
       "      <td>101.9</td>\n",
       "      <td>63.2</td>\n",
       "      <td>42.2</td>\n",
       "      <td>24.0</td>\n",
       "      <td>32.2</td>\n",
       "      <td>27.7</td>\n",
       "      <td>17.7</td>\n",
       "    </tr>\n",
       "  </tbody>\n",
       "</table>\n",
       "</div>\n",
       "    <div class=\"colab-df-buttons\">\n",
       "\n",
       "  <div class=\"colab-df-container\">\n",
       "    <button class=\"colab-df-convert\" onclick=\"convertToInteractive('df-c63f26fc-6f45-4690-9154-bb5846923dbe')\"\n",
       "            title=\"Convert this dataframe to an interactive table.\"\n",
       "            style=\"display:none;\">\n",
       "\n",
       "  <svg xmlns=\"http://www.w3.org/2000/svg\" height=\"24px\" viewBox=\"0 -960 960 960\">\n",
       "    <path d=\"M120-120v-720h720v720H120Zm60-500h600v-160H180v160Zm220 220h160v-160H400v160Zm0 220h160v-160H400v160ZM180-400h160v-160H180v160Zm440 0h160v-160H620v160ZM180-180h160v-160H180v160Zm440 0h160v-160H620v160Z\"/>\n",
       "  </svg>\n",
       "    </button>\n",
       "\n",
       "  <style>\n",
       "    .colab-df-container {\n",
       "      display:flex;\n",
       "      gap: 12px;\n",
       "    }\n",
       "\n",
       "    .colab-df-convert {\n",
       "      background-color: #E8F0FE;\n",
       "      border: none;\n",
       "      border-radius: 50%;\n",
       "      cursor: pointer;\n",
       "      display: none;\n",
       "      fill: #1967D2;\n",
       "      height: 32px;\n",
       "      padding: 0 0 0 0;\n",
       "      width: 32px;\n",
       "    }\n",
       "\n",
       "    .colab-df-convert:hover {\n",
       "      background-color: #E2EBFA;\n",
       "      box-shadow: 0px 1px 2px rgba(60, 64, 67, 0.3), 0px 1px 3px 1px rgba(60, 64, 67, 0.15);\n",
       "      fill: #174EA6;\n",
       "    }\n",
       "\n",
       "    .colab-df-buttons div {\n",
       "      margin-bottom: 4px;\n",
       "    }\n",
       "\n",
       "    [theme=dark] .colab-df-convert {\n",
       "      background-color: #3B4455;\n",
       "      fill: #D2E3FC;\n",
       "    }\n",
       "\n",
       "    [theme=dark] .colab-df-convert:hover {\n",
       "      background-color: #434B5C;\n",
       "      box-shadow: 0px 1px 3px 1px rgba(0, 0, 0, 0.15);\n",
       "      filter: drop-shadow(0px 1px 2px rgba(0, 0, 0, 0.3));\n",
       "      fill: #FFFFFF;\n",
       "    }\n",
       "  </style>\n",
       "\n",
       "    <script>\n",
       "      const buttonEl =\n",
       "        document.querySelector('#df-c63f26fc-6f45-4690-9154-bb5846923dbe button.colab-df-convert');\n",
       "      buttonEl.style.display =\n",
       "        google.colab.kernel.accessAllowed ? 'block' : 'none';\n",
       "\n",
       "      async function convertToInteractive(key) {\n",
       "        const element = document.querySelector('#df-c63f26fc-6f45-4690-9154-bb5846923dbe');\n",
       "        const dataTable =\n",
       "          await google.colab.kernel.invokeFunction('convertToInteractive',\n",
       "                                                    [key], {});\n",
       "        if (!dataTable) return;\n",
       "\n",
       "        const docLinkHtml = 'Like what you see? Visit the ' +\n",
       "          '<a target=\"_blank\" href=https://colab.research.google.com/notebooks/data_table.ipynb>data table notebook</a>'\n",
       "          + ' to learn more about interactive tables.';\n",
       "        element.innerHTML = '';\n",
       "        dataTable['output_type'] = 'display_data';\n",
       "        await google.colab.output.renderOutput(dataTable, element);\n",
       "        const docLink = document.createElement('div');\n",
       "        docLink.innerHTML = docLinkHtml;\n",
       "        element.appendChild(docLink);\n",
       "      }\n",
       "    </script>\n",
       "  </div>\n",
       "\n",
       "\n",
       "<div id=\"df-b1a9b81c-efc3-40b3-8ca5-a6ade21b6699\">\n",
       "  <button class=\"colab-df-quickchart\" onclick=\"quickchart('df-b1a9b81c-efc3-40b3-8ca5-a6ade21b6699')\"\n",
       "            title=\"Suggest charts\"\n",
       "            style=\"display:none;\">\n",
       "\n",
       "<svg xmlns=\"http://www.w3.org/2000/svg\" height=\"24px\"viewBox=\"0 0 24 24\"\n",
       "     width=\"24px\">\n",
       "    <g>\n",
       "        <path d=\"M19 3H5c-1.1 0-2 .9-2 2v14c0 1.1.9 2 2 2h14c1.1 0 2-.9 2-2V5c0-1.1-.9-2-2-2zM9 17H7v-7h2v7zm4 0h-2V7h2v10zm4 0h-2v-4h2v4z\"/>\n",
       "    </g>\n",
       "</svg>\n",
       "  </button>\n",
       "\n",
       "<style>\n",
       "  .colab-df-quickchart {\n",
       "      --bg-color: #E8F0FE;\n",
       "      --fill-color: #1967D2;\n",
       "      --hover-bg-color: #E2EBFA;\n",
       "      --hover-fill-color: #174EA6;\n",
       "      --disabled-fill-color: #AAA;\n",
       "      --disabled-bg-color: #DDD;\n",
       "  }\n",
       "\n",
       "  [theme=dark] .colab-df-quickchart {\n",
       "      --bg-color: #3B4455;\n",
       "      --fill-color: #D2E3FC;\n",
       "      --hover-bg-color: #434B5C;\n",
       "      --hover-fill-color: #FFFFFF;\n",
       "      --disabled-bg-color: #3B4455;\n",
       "      --disabled-fill-color: #666;\n",
       "  }\n",
       "\n",
       "  .colab-df-quickchart {\n",
       "    background-color: var(--bg-color);\n",
       "    border: none;\n",
       "    border-radius: 50%;\n",
       "    cursor: pointer;\n",
       "    display: none;\n",
       "    fill: var(--fill-color);\n",
       "    height: 32px;\n",
       "    padding: 0;\n",
       "    width: 32px;\n",
       "  }\n",
       "\n",
       "  .colab-df-quickchart:hover {\n",
       "    background-color: var(--hover-bg-color);\n",
       "    box-shadow: 0 1px 2px rgba(60, 64, 67, 0.3), 0 1px 3px 1px rgba(60, 64, 67, 0.15);\n",
       "    fill: var(--button-hover-fill-color);\n",
       "  }\n",
       "\n",
       "  .colab-df-quickchart-complete:disabled,\n",
       "  .colab-df-quickchart-complete:disabled:hover {\n",
       "    background-color: var(--disabled-bg-color);\n",
       "    fill: var(--disabled-fill-color);\n",
       "    box-shadow: none;\n",
       "  }\n",
       "\n",
       "  .colab-df-spinner {\n",
       "    border: 2px solid var(--fill-color);\n",
       "    border-color: transparent;\n",
       "    border-bottom-color: var(--fill-color);\n",
       "    animation:\n",
       "      spin 1s steps(1) infinite;\n",
       "  }\n",
       "\n",
       "  @keyframes spin {\n",
       "    0% {\n",
       "      border-color: transparent;\n",
       "      border-bottom-color: var(--fill-color);\n",
       "      border-left-color: var(--fill-color);\n",
       "    }\n",
       "    20% {\n",
       "      border-color: transparent;\n",
       "      border-left-color: var(--fill-color);\n",
       "      border-top-color: var(--fill-color);\n",
       "    }\n",
       "    30% {\n",
       "      border-color: transparent;\n",
       "      border-left-color: var(--fill-color);\n",
       "      border-top-color: var(--fill-color);\n",
       "      border-right-color: var(--fill-color);\n",
       "    }\n",
       "    40% {\n",
       "      border-color: transparent;\n",
       "      border-right-color: var(--fill-color);\n",
       "      border-top-color: var(--fill-color);\n",
       "    }\n",
       "    60% {\n",
       "      border-color: transparent;\n",
       "      border-right-color: var(--fill-color);\n",
       "    }\n",
       "    80% {\n",
       "      border-color: transparent;\n",
       "      border-right-color: var(--fill-color);\n",
       "      border-bottom-color: var(--fill-color);\n",
       "    }\n",
       "    90% {\n",
       "      border-color: transparent;\n",
       "      border-bottom-color: var(--fill-color);\n",
       "    }\n",
       "  }\n",
       "</style>\n",
       "\n",
       "  <script>\n",
       "    async function quickchart(key) {\n",
       "      const quickchartButtonEl =\n",
       "        document.querySelector('#' + key + ' button');\n",
       "      quickchartButtonEl.disabled = true;  // To prevent multiple clicks.\n",
       "      quickchartButtonEl.classList.add('colab-df-spinner');\n",
       "      try {\n",
       "        const charts = await google.colab.kernel.invokeFunction(\n",
       "            'suggestCharts', [key], {});\n",
       "      } catch (error) {\n",
       "        console.error('Error during call to suggestCharts:', error);\n",
       "      }\n",
       "      quickchartButtonEl.classList.remove('colab-df-spinner');\n",
       "      quickchartButtonEl.classList.add('colab-df-quickchart-complete');\n",
       "    }\n",
       "    (() => {\n",
       "      let quickchartButtonEl =\n",
       "        document.querySelector('#df-b1a9b81c-efc3-40b3-8ca5-a6ade21b6699 button');\n",
       "      quickchartButtonEl.style.display =\n",
       "        google.colab.kernel.accessAllowed ? 'block' : 'none';\n",
       "    })();\n",
       "  </script>\n",
       "</div>\n",
       "\n",
       "    </div>\n",
       "  </div>\n"
      ],
      "text/plain": [
       "   Density  BodyFat  Age  Weight  Height  Neck  Chest  Abdomen    Hip  Thigh  \\\n",
       "0   1.0708     12.3   23  154.25   67.75  36.2   93.1     85.2   94.5   59.0   \n",
       "1   1.0853      6.1   22  173.25   72.25  38.5   93.6     83.0   98.7   58.7   \n",
       "2   1.0414     25.3   22  154.00   66.25  34.0   95.8     87.9   99.2   59.6   \n",
       "3   1.0751     10.4   26  184.75   72.25  37.4  101.8     86.4  101.2   60.1   \n",
       "4   1.0340     28.7   24  184.25   71.25  34.4   97.3    100.0  101.9   63.2   \n",
       "\n",
       "   Knee  Ankle  Biceps  Forearm  Wrist  \n",
       "0  37.3   21.9    32.0     27.4   17.1  \n",
       "1  37.3   23.4    30.5     28.9   18.2  \n",
       "2  38.9   24.0    28.8     25.2   16.6  \n",
       "3  37.3   22.8    32.4     29.4   18.2  \n",
       "4  42.2   24.0    32.2     27.7   17.7  "
      ]
     },
     "execution_count": 4,
     "metadata": {},
     "output_type": "execute_result"
    }
   ],
   "source": [
    "# Load the dataset\n",
    "url = \"https://hbiostat.org/data/repo/bodyfat.csv\"\n",
    "data = pd.read_csv(url)\n",
    "data.head()"
   ]
  },
  {
   "cell_type": "code",
   "execution_count": 6,
   "id": "p51aO35V66jU",
   "metadata": {
    "id": "p51aO35V66jU"
   },
   "outputs": [],
   "source": [
    "# # Load the dataset\n",
    "# data = pd.read_csv('bodyfat.csv')\n",
    "# data.head()"
   ]
  },
  {
   "cell_type": "markdown",
   "id": "4618eaf0",
   "metadata": {
    "id": "4618eaf0"
   },
   "source": [
    "#### Review information about MATLAB’s/Python internal dataset “bodyfat_dataset” by typing “help bodyfat_dataset“. Load the dataset by entering:\n",
    "\n",
    "[X, T] = bodyfat_dataset;"
   ]
  },
  {
   "cell_type": "code",
   "execution_count": 8,
   "id": "bb2159c0",
   "metadata": {
    "id": "bb2159c0"
   },
   "outputs": [],
   "source": [
    "# help(bodyfat_dataset)"
   ]
  },
  {
   "cell_type": "markdown",
   "id": "d7fa233c",
   "metadata": {
    "id": "d7fa233c"
   },
   "source": [
    "#### A : To Find the correlation coefficient of each input with the output:\n",
    "\n",
    "corrcoef(X(i,:),T), i=1,2,…13."
   ]
  },
  {
   "cell_type": "markdown",
   "id": "0931cf78",
   "metadata": {
    "id": "0931cf78"
   },
   "source": [
    "* Which inputs are more suitable for linear regression?\n",
    "* Find that linear regression (i.e. the linear mixture coefficients) by using those input variables that have better a correlation with the output, and\n",
    "* Report the results as the baseline: after the aforesaid feature selection, train (i.e. build the regression model) on the first ¾ of the samples, and then test that linear model on the rest ¼. Do so for 2 subsets.\n",
    "* Report on the MSE of train and test as the goodness of fit measure (loss function)."
   ]
  },
  {
   "cell_type": "code",
   "execution_count": 10,
   "id": "75770aed",
   "metadata": {
    "colab": {
     "base_uri": "https://localhost:8080/"
    },
    "id": "75770aed",
    "outputId": "db1e6ff5-00f5-449e-b60e-f094a6cc4dd7"
   },
   "outputs": [
    {
     "name": "stdout",
     "output_type": "stream",
     "text": [
      "Correlation coefficients for each input with the output:\n",
      "Input 1: -0.3257\n",
      "Input 2: 0.3466\n",
      "Input 3: 0.2135\n",
      "Input 4: 0.7298\n",
      "Input 5: 0.3221\n",
      "Input 6: 0.7448\n",
      "Input 7: 0.6602\n",
      "Input 8: 0.6198\n",
      "Input 9: 0.6301\n",
      "Input 10: 0.5587\n",
      "Input 11: 0.6645\n",
      "Input 12: 0.5662\n",
      "Input 13: 0.6321\n",
      "Input 14: 0.5856\n",
      "Selected features (indices): [3, 5, 6, 7, 8, 9, 10, 11, 12, 13]\n",
      "\n",
      "Linear Regression Results:\n",
      "MSE (Train): 0.2680\n",
      "MSE (Test): 0.3933\n",
      "Regression Coefficients: [ 0.01550398  0.15009994 -0.00646441 -0.00087323 -0.00134432 -0.06600723\n",
      "  0.08448081  0.11188828  0.00682465  0.02708931]\n"
     ]
    }
   ],
   "source": [
    "import numpy as np\n",
    "import pandas as pd\n",
    "from sklearn.model_selection import train_test_split\n",
    "from sklearn.linear_model import LinearRegression\n",
    "from sklearn.metrics import mean_squared_error\n",
    "\n",
    "# Step 1: Load the dataset\n",
    "url = \"https://hbiostat.org/data/repo/bodyfat.csv\"\n",
    "data = pd.read_csv(url)\n",
    "\n",
    "# Step 2: Separate input (X) and output (T)\n",
    "X = data.iloc[:, :-1].to_numpy()  # All input columns\n",
    "T = data.iloc[:, -1].to_numpy()   # Output column (BodyFat)\n",
    "\n",
    "# Step 3: Find correlation coefficients for each input with the output\n",
    "correlations = [np.corrcoef(X[:, i], T)[0, 1] for i in range(X.shape[1])]\n",
    "print(\"Correlation coefficients for each input with the output:\")\n",
    "for i, corr in enumerate(correlations):\n",
    "    print(f\"Input {i+1}: {corr:.4f}\")\n",
    "\n",
    "# Step 4: Select inputs with high correlation for linear regression\n",
    "threshold = 0.5                                          # Example threshold for correlation\n",
    "selected_features = [i for i, corr in enumerate(correlations) if abs(corr) > threshold]\n",
    "print(f\"Selected features (indices): {selected_features}\")\n",
    "\n",
    "# Step 5: Create a reduced dataset using the selected features\n",
    "X_reduced = X[:, selected_features]\n",
    "\n",
    "# Step 6: Split the data into training and testing subsets\n",
    "X_train, X_test, T_train, T_test = train_test_split(\n",
    "    X_reduced, T, test_size=0.25, random_state=42\n",
    ")\n",
    "\n",
    "# Step 7: Train a linear regression model\n",
    "model = LinearRegression()\n",
    "model.fit(X_train, T_train)\n",
    "\n",
    "# Step 8: Test the model\n",
    "T_train_pred = model.predict(X_train)\n",
    "T_test_pred = model.predict(X_test)\n",
    "\n",
    "# Step 9: Calculate MSE for training and testing\n",
    "mse_train = mean_squared_error(T_train, T_train_pred)\n",
    "mse_test = mean_squared_error(T_test, T_test_pred)\n",
    "\n",
    "print(f\"\\nLinear Regression Results:\")\n",
    "print(f\"MSE (Train): {mse_train:.4f}\")\n",
    "print(f\"MSE (Test): {mse_test:.4f}\")\n",
    "\n",
    "# Step 10: Report the regression coefficients\n",
    "print(f\"Regression Coefficients: {model.coef_}\")\n"
   ]
  },
  {
   "cell_type": "markdown",
   "id": "feb5f5e0",
   "metadata": {
    "id": "feb5f5e0"
   },
   "source": [
    "__B-__ (1 and 2 required for graduates, optional for undergrads with up to an extra 20 bonus points) Now use a few different types of MLP neural nets on all the 13 input feature dimensionalities. For each requested task, reset (using the command ‘init’) and retrain the neural network model at hand 10 times and report on both mean and variance on training and validation MSEs as follows:\n",
    "\n",
    "* Create a simple 15-node, one-hidden-layer regression MLP using the command ‘fitnet.’ Use the network with its default settings except for training/validation/test data partitioning ratios, which you shall set to 70%, 15%, and 15 %, respectively. Find the mean and variance of MSEs for training, validation, and testing portions of the dataset from the 10 training repetitions (with random initializations using init(net) ).\n",
    "\n",
    "* Change the network’s hidden layer size to 2 nodes and then to 80 nodes, with training, validation, and testing ratios set to 30%, 20%, and 50%; and then find the mean and variance of MSEs for training and validation portions of the dataset from the 10 training repetitions (again with random model initializations).\n",
    "\n",
    "* (Graduate section only, optional bonus, up to 10 points) For the 80-node model, have regularization (weight decay) set at 0.1 and 0.5 and the find mean and variance of MSEs for training and validation portions of the dataset from the 10 repetitions for each case."
   ]
  },
  {
   "cell_type": "code",
   "execution_count": 13,
   "id": "cH69MeYcev0i",
   "metadata": {
    "colab": {
     "base_uri": "https://localhost:8080/",
     "height": 206
    },
    "id": "cH69MeYcev0i",
    "outputId": "77fdee84-b7a7-4c6d-972c-befa495a6d7a"
   },
   "outputs": [
    {
     "data": {
      "application/vnd.google.colaboratory.intrinsic+json": {
       "summary": "{\n  \"name\": \"data\",\n  \"rows\": 252,\n  \"fields\": [\n    {\n      \"column\": \"Density\",\n      \"properties\": {\n        \"dtype\": \"number\",\n        \"std\": 0.019031434171520773,\n        \"min\": 0.995,\n        \"max\": 1.1089,\n        \"num_unique_values\": 218,\n        \"samples\": [\n          1.0547,\n          1.0236,\n          1.0873\n        ],\n        \"semantic_type\": \"\",\n        \"description\": \"\"\n      }\n    },\n    {\n      \"column\": \"BodyFat\",\n      \"properties\": {\n        \"dtype\": \"number\",\n        \"std\": 8.368740413029705,\n        \"min\": 0.0,\n        \"max\": 47.5,\n        \"num_unique_values\": 176,\n        \"samples\": [\n          19.1,\n          13.6,\n          12.1\n        ],\n        \"semantic_type\": \"\",\n        \"description\": \"\"\n      }\n    },\n    {\n      \"column\": \"Age\",\n      \"properties\": {\n        \"dtype\": \"number\",\n        \"std\": 12,\n        \"min\": 22,\n        \"max\": 81,\n        \"num_unique_values\": 51,\n        \"samples\": [\n          52,\n          72,\n          60\n        ],\n        \"semantic_type\": \"\",\n        \"description\": \"\"\n      }\n    },\n    {\n      \"column\": \"Weight\",\n      \"properties\": {\n        \"dtype\": \"number\",\n        \"std\": 29.389159885369075,\n        \"min\": 118.5,\n        \"max\": 363.15,\n        \"num_unique_values\": 197,\n        \"samples\": [\n          226.75,\n          192.25,\n          195.75\n        ],\n        \"semantic_type\": \"\",\n        \"description\": \"\"\n      }\n    },\n    {\n      \"column\": \"Height\",\n      \"properties\": {\n        \"dtype\": \"number\",\n        \"std\": 3.6628557876803165,\n        \"min\": 29.5,\n        \"max\": 77.75,\n        \"num_unique_values\": 48,\n        \"samples\": [\n          68.5,\n          77.75,\n          73.25\n        ],\n        \"semantic_type\": \"\",\n        \"description\": \"\"\n      }\n    },\n    {\n      \"column\": \"Neck\",\n      \"properties\": {\n        \"dtype\": \"number\",\n        \"std\": 2.4309132340195068,\n        \"min\": 31.1,\n        \"max\": 51.2,\n        \"num_unique_values\": 90,\n        \"samples\": [\n          39.9,\n          38.8,\n          35.9\n        ],\n        \"semantic_type\": \"\",\n        \"description\": \"\"\n      }\n    },\n    {\n      \"column\": \"Chest\",\n      \"properties\": {\n        \"dtype\": \"number\",\n        \"std\": 8.430475531920024,\n        \"min\": 79.3,\n        \"max\": 136.2,\n        \"num_unique_values\": 174,\n        \"samples\": [\n          92.8,\n          92.0,\n          103.9\n        ],\n        \"semantic_type\": \"\",\n        \"description\": \"\"\n      }\n    },\n    {\n      \"column\": \"Abdomen\",\n      \"properties\": {\n        \"dtype\": \"number\",\n        \"std\": 10.783076801381705,\n        \"min\": 69.4,\n        \"max\": 148.1,\n        \"num_unique_values\": 185,\n        \"samples\": [\n          95.9,\n          79.5,\n          103.1\n        ],\n        \"semantic_type\": \"\",\n        \"description\": \"\"\n      }\n    },\n    {\n      \"column\": \"Hip\",\n      \"properties\": {\n        \"dtype\": \"number\",\n        \"std\": 7.164057666842285,\n        \"min\": 85.0,\n        \"max\": 147.7,\n        \"num_unique_values\": 152,\n        \"samples\": [\n          100.2,\n          87.6,\n          93.2\n        ],\n        \"semantic_type\": \"\",\n        \"description\": \"\"\n      }\n    },\n    {\n      \"column\": \"Thigh\",\n      \"properties\": {\n        \"dtype\": \"number\",\n        \"std\": 5.249952028401044,\n        \"min\": 47.2,\n        \"max\": 87.3,\n        \"num_unique_values\": 139,\n        \"samples\": [\n          50.7,\n          54.8,\n          87.3\n        ],\n        \"semantic_type\": \"\",\n        \"description\": \"\"\n      }\n    },\n    {\n      \"column\": \"Knee\",\n      \"properties\": {\n        \"dtype\": \"number\",\n        \"std\": 2.4118045870187577,\n        \"min\": 33.0,\n        \"max\": 49.1,\n        \"num_unique_values\": 90,\n        \"samples\": [\n          37.6,\n          34.5,\n          39.5\n        ],\n        \"semantic_type\": \"\",\n        \"description\": \"\"\n      }\n    },\n    {\n      \"column\": \"Ankle\",\n      \"properties\": {\n        \"dtype\": \"number\",\n        \"std\": 1.6948933981786367,\n        \"min\": 19.1,\n        \"max\": 33.9,\n        \"num_unique_values\": 61,\n        \"samples\": [\n          21.9,\n          22.9,\n          24.8\n        ],\n        \"semantic_type\": \"\",\n        \"description\": \"\"\n      }\n    },\n    {\n      \"column\": \"Biceps\",\n      \"properties\": {\n        \"dtype\": \"number\",\n        \"std\": 3.0212737512508636,\n        \"min\": 24.8,\n        \"max\": 45.0,\n        \"num_unique_values\": 104,\n        \"samples\": [\n          45.0,\n          30.6,\n          32.9\n        ],\n        \"semantic_type\": \"\",\n        \"description\": \"\"\n      }\n    },\n    {\n      \"column\": \"Forearm\",\n      \"properties\": {\n        \"dtype\": \"number\",\n        \"std\": 2.0206911650269284,\n        \"min\": 21.0,\n        \"max\": 34.9,\n        \"num_unique_values\": 77,\n        \"samples\": [\n          27.7,\n          25.5,\n          30.2\n        ],\n        \"semantic_type\": \"\",\n        \"description\": \"\"\n      }\n    },\n    {\n      \"column\": \"Wrist\",\n      \"properties\": {\n        \"dtype\": \"number\",\n        \"std\": 0.9335849289587032,\n        \"min\": 15.8,\n        \"max\": 21.4,\n        \"num_unique_values\": 44,\n        \"samples\": [\n          17.5,\n          17.4,\n          16.1\n        ],\n        \"semantic_type\": \"\",\n        \"description\": \"\"\n      }\n    }\n  ]\n}",
       "type": "dataframe",
       "variable_name": "data"
      },
      "text/html": [
       "\n",
       "  <div id=\"df-bd768ac3-a174-4cfe-b684-24779cef9871\" class=\"colab-df-container\">\n",
       "    <div>\n",
       "<style scoped>\n",
       "    .dataframe tbody tr th:only-of-type {\n",
       "        vertical-align: middle;\n",
       "    }\n",
       "\n",
       "    .dataframe tbody tr th {\n",
       "        vertical-align: top;\n",
       "    }\n",
       "\n",
       "    .dataframe thead th {\n",
       "        text-align: right;\n",
       "    }\n",
       "</style>\n",
       "<table border=\"1\" class=\"dataframe\">\n",
       "  <thead>\n",
       "    <tr style=\"text-align: right;\">\n",
       "      <th></th>\n",
       "      <th>Density</th>\n",
       "      <th>BodyFat</th>\n",
       "      <th>Age</th>\n",
       "      <th>Weight</th>\n",
       "      <th>Height</th>\n",
       "      <th>Neck</th>\n",
       "      <th>Chest</th>\n",
       "      <th>Abdomen</th>\n",
       "      <th>Hip</th>\n",
       "      <th>Thigh</th>\n",
       "      <th>Knee</th>\n",
       "      <th>Ankle</th>\n",
       "      <th>Biceps</th>\n",
       "      <th>Forearm</th>\n",
       "      <th>Wrist</th>\n",
       "    </tr>\n",
       "  </thead>\n",
       "  <tbody>\n",
       "    <tr>\n",
       "      <th>0</th>\n",
       "      <td>1.0708</td>\n",
       "      <td>12.3</td>\n",
       "      <td>23</td>\n",
       "      <td>154.25</td>\n",
       "      <td>67.75</td>\n",
       "      <td>36.2</td>\n",
       "      <td>93.1</td>\n",
       "      <td>85.2</td>\n",
       "      <td>94.5</td>\n",
       "      <td>59.0</td>\n",
       "      <td>37.3</td>\n",
       "      <td>21.9</td>\n",
       "      <td>32.0</td>\n",
       "      <td>27.4</td>\n",
       "      <td>17.1</td>\n",
       "    </tr>\n",
       "    <tr>\n",
       "      <th>1</th>\n",
       "      <td>1.0853</td>\n",
       "      <td>6.1</td>\n",
       "      <td>22</td>\n",
       "      <td>173.25</td>\n",
       "      <td>72.25</td>\n",
       "      <td>38.5</td>\n",
       "      <td>93.6</td>\n",
       "      <td>83.0</td>\n",
       "      <td>98.7</td>\n",
       "      <td>58.7</td>\n",
       "      <td>37.3</td>\n",
       "      <td>23.4</td>\n",
       "      <td>30.5</td>\n",
       "      <td>28.9</td>\n",
       "      <td>18.2</td>\n",
       "    </tr>\n",
       "    <tr>\n",
       "      <th>2</th>\n",
       "      <td>1.0414</td>\n",
       "      <td>25.3</td>\n",
       "      <td>22</td>\n",
       "      <td>154.00</td>\n",
       "      <td>66.25</td>\n",
       "      <td>34.0</td>\n",
       "      <td>95.8</td>\n",
       "      <td>87.9</td>\n",
       "      <td>99.2</td>\n",
       "      <td>59.6</td>\n",
       "      <td>38.9</td>\n",
       "      <td>24.0</td>\n",
       "      <td>28.8</td>\n",
       "      <td>25.2</td>\n",
       "      <td>16.6</td>\n",
       "    </tr>\n",
       "    <tr>\n",
       "      <th>3</th>\n",
       "      <td>1.0751</td>\n",
       "      <td>10.4</td>\n",
       "      <td>26</td>\n",
       "      <td>184.75</td>\n",
       "      <td>72.25</td>\n",
       "      <td>37.4</td>\n",
       "      <td>101.8</td>\n",
       "      <td>86.4</td>\n",
       "      <td>101.2</td>\n",
       "      <td>60.1</td>\n",
       "      <td>37.3</td>\n",
       "      <td>22.8</td>\n",
       "      <td>32.4</td>\n",
       "      <td>29.4</td>\n",
       "      <td>18.2</td>\n",
       "    </tr>\n",
       "    <tr>\n",
       "      <th>4</th>\n",
       "      <td>1.0340</td>\n",
       "      <td>28.7</td>\n",
       "      <td>24</td>\n",
       "      <td>184.25</td>\n",
       "      <td>71.25</td>\n",
       "      <td>34.4</td>\n",
       "      <td>97.3</td>\n",
       "      <td>100.0</td>\n",
       "      <td>101.9</td>\n",
       "      <td>63.2</td>\n",
       "      <td>42.2</td>\n",
       "      <td>24.0</td>\n",
       "      <td>32.2</td>\n",
       "      <td>27.7</td>\n",
       "      <td>17.7</td>\n",
       "    </tr>\n",
       "  </tbody>\n",
       "</table>\n",
       "</div>\n",
       "    <div class=\"colab-df-buttons\">\n",
       "\n",
       "  <div class=\"colab-df-container\">\n",
       "    <button class=\"colab-df-convert\" onclick=\"convertToInteractive('df-bd768ac3-a174-4cfe-b684-24779cef9871')\"\n",
       "            title=\"Convert this dataframe to an interactive table.\"\n",
       "            style=\"display:none;\">\n",
       "\n",
       "  <svg xmlns=\"http://www.w3.org/2000/svg\" height=\"24px\" viewBox=\"0 -960 960 960\">\n",
       "    <path d=\"M120-120v-720h720v720H120Zm60-500h600v-160H180v160Zm220 220h160v-160H400v160Zm0 220h160v-160H400v160ZM180-400h160v-160H180v160Zm440 0h160v-160H620v160ZM180-180h160v-160H180v160Zm440 0h160v-160H620v160Z\"/>\n",
       "  </svg>\n",
       "    </button>\n",
       "\n",
       "  <style>\n",
       "    .colab-df-container {\n",
       "      display:flex;\n",
       "      gap: 12px;\n",
       "    }\n",
       "\n",
       "    .colab-df-convert {\n",
       "      background-color: #E8F0FE;\n",
       "      border: none;\n",
       "      border-radius: 50%;\n",
       "      cursor: pointer;\n",
       "      display: none;\n",
       "      fill: #1967D2;\n",
       "      height: 32px;\n",
       "      padding: 0 0 0 0;\n",
       "      width: 32px;\n",
       "    }\n",
       "\n",
       "    .colab-df-convert:hover {\n",
       "      background-color: #E2EBFA;\n",
       "      box-shadow: 0px 1px 2px rgba(60, 64, 67, 0.3), 0px 1px 3px 1px rgba(60, 64, 67, 0.15);\n",
       "      fill: #174EA6;\n",
       "    }\n",
       "\n",
       "    .colab-df-buttons div {\n",
       "      margin-bottom: 4px;\n",
       "    }\n",
       "\n",
       "    [theme=dark] .colab-df-convert {\n",
       "      background-color: #3B4455;\n",
       "      fill: #D2E3FC;\n",
       "    }\n",
       "\n",
       "    [theme=dark] .colab-df-convert:hover {\n",
       "      background-color: #434B5C;\n",
       "      box-shadow: 0px 1px 3px 1px rgba(0, 0, 0, 0.15);\n",
       "      filter: drop-shadow(0px 1px 2px rgba(0, 0, 0, 0.3));\n",
       "      fill: #FFFFFF;\n",
       "    }\n",
       "  </style>\n",
       "\n",
       "    <script>\n",
       "      const buttonEl =\n",
       "        document.querySelector('#df-bd768ac3-a174-4cfe-b684-24779cef9871 button.colab-df-convert');\n",
       "      buttonEl.style.display =\n",
       "        google.colab.kernel.accessAllowed ? 'block' : 'none';\n",
       "\n",
       "      async function convertToInteractive(key) {\n",
       "        const element = document.querySelector('#df-bd768ac3-a174-4cfe-b684-24779cef9871');\n",
       "        const dataTable =\n",
       "          await google.colab.kernel.invokeFunction('convertToInteractive',\n",
       "                                                    [key], {});\n",
       "        if (!dataTable) return;\n",
       "\n",
       "        const docLinkHtml = 'Like what you see? Visit the ' +\n",
       "          '<a target=\"_blank\" href=https://colab.research.google.com/notebooks/data_table.ipynb>data table notebook</a>'\n",
       "          + ' to learn more about interactive tables.';\n",
       "        element.innerHTML = '';\n",
       "        dataTable['output_type'] = 'display_data';\n",
       "        await google.colab.output.renderOutput(dataTable, element);\n",
       "        const docLink = document.createElement('div');\n",
       "        docLink.innerHTML = docLinkHtml;\n",
       "        element.appendChild(docLink);\n",
       "      }\n",
       "    </script>\n",
       "  </div>\n",
       "\n",
       "\n",
       "<div id=\"df-5e928721-0199-424d-b167-46abad650ffa\">\n",
       "  <button class=\"colab-df-quickchart\" onclick=\"quickchart('df-5e928721-0199-424d-b167-46abad650ffa')\"\n",
       "            title=\"Suggest charts\"\n",
       "            style=\"display:none;\">\n",
       "\n",
       "<svg xmlns=\"http://www.w3.org/2000/svg\" height=\"24px\"viewBox=\"0 0 24 24\"\n",
       "     width=\"24px\">\n",
       "    <g>\n",
       "        <path d=\"M19 3H5c-1.1 0-2 .9-2 2v14c0 1.1.9 2 2 2h14c1.1 0 2-.9 2-2V5c0-1.1-.9-2-2-2zM9 17H7v-7h2v7zm4 0h-2V7h2v10zm4 0h-2v-4h2v4z\"/>\n",
       "    </g>\n",
       "</svg>\n",
       "  </button>\n",
       "\n",
       "<style>\n",
       "  .colab-df-quickchart {\n",
       "      --bg-color: #E8F0FE;\n",
       "      --fill-color: #1967D2;\n",
       "      --hover-bg-color: #E2EBFA;\n",
       "      --hover-fill-color: #174EA6;\n",
       "      --disabled-fill-color: #AAA;\n",
       "      --disabled-bg-color: #DDD;\n",
       "  }\n",
       "\n",
       "  [theme=dark] .colab-df-quickchart {\n",
       "      --bg-color: #3B4455;\n",
       "      --fill-color: #D2E3FC;\n",
       "      --hover-bg-color: #434B5C;\n",
       "      --hover-fill-color: #FFFFFF;\n",
       "      --disabled-bg-color: #3B4455;\n",
       "      --disabled-fill-color: #666;\n",
       "  }\n",
       "\n",
       "  .colab-df-quickchart {\n",
       "    background-color: var(--bg-color);\n",
       "    border: none;\n",
       "    border-radius: 50%;\n",
       "    cursor: pointer;\n",
       "    display: none;\n",
       "    fill: var(--fill-color);\n",
       "    height: 32px;\n",
       "    padding: 0;\n",
       "    width: 32px;\n",
       "  }\n",
       "\n",
       "  .colab-df-quickchart:hover {\n",
       "    background-color: var(--hover-bg-color);\n",
       "    box-shadow: 0 1px 2px rgba(60, 64, 67, 0.3), 0 1px 3px 1px rgba(60, 64, 67, 0.15);\n",
       "    fill: var(--button-hover-fill-color);\n",
       "  }\n",
       "\n",
       "  .colab-df-quickchart-complete:disabled,\n",
       "  .colab-df-quickchart-complete:disabled:hover {\n",
       "    background-color: var(--disabled-bg-color);\n",
       "    fill: var(--disabled-fill-color);\n",
       "    box-shadow: none;\n",
       "  }\n",
       "\n",
       "  .colab-df-spinner {\n",
       "    border: 2px solid var(--fill-color);\n",
       "    border-color: transparent;\n",
       "    border-bottom-color: var(--fill-color);\n",
       "    animation:\n",
       "      spin 1s steps(1) infinite;\n",
       "  }\n",
       "\n",
       "  @keyframes spin {\n",
       "    0% {\n",
       "      border-color: transparent;\n",
       "      border-bottom-color: var(--fill-color);\n",
       "      border-left-color: var(--fill-color);\n",
       "    }\n",
       "    20% {\n",
       "      border-color: transparent;\n",
       "      border-left-color: var(--fill-color);\n",
       "      border-top-color: var(--fill-color);\n",
       "    }\n",
       "    30% {\n",
       "      border-color: transparent;\n",
       "      border-left-color: var(--fill-color);\n",
       "      border-top-color: var(--fill-color);\n",
       "      border-right-color: var(--fill-color);\n",
       "    }\n",
       "    40% {\n",
       "      border-color: transparent;\n",
       "      border-right-color: var(--fill-color);\n",
       "      border-top-color: var(--fill-color);\n",
       "    }\n",
       "    60% {\n",
       "      border-color: transparent;\n",
       "      border-right-color: var(--fill-color);\n",
       "    }\n",
       "    80% {\n",
       "      border-color: transparent;\n",
       "      border-right-color: var(--fill-color);\n",
       "      border-bottom-color: var(--fill-color);\n",
       "    }\n",
       "    90% {\n",
       "      border-color: transparent;\n",
       "      border-bottom-color: var(--fill-color);\n",
       "    }\n",
       "  }\n",
       "</style>\n",
       "\n",
       "  <script>\n",
       "    async function quickchart(key) {\n",
       "      const quickchartButtonEl =\n",
       "        document.querySelector('#' + key + ' button');\n",
       "      quickchartButtonEl.disabled = true;  // To prevent multiple clicks.\n",
       "      quickchartButtonEl.classList.add('colab-df-spinner');\n",
       "      try {\n",
       "        const charts = await google.colab.kernel.invokeFunction(\n",
       "            'suggestCharts', [key], {});\n",
       "      } catch (error) {\n",
       "        console.error('Error during call to suggestCharts:', error);\n",
       "      }\n",
       "      quickchartButtonEl.classList.remove('colab-df-spinner');\n",
       "      quickchartButtonEl.classList.add('colab-df-quickchart-complete');\n",
       "    }\n",
       "    (() => {\n",
       "      let quickchartButtonEl =\n",
       "        document.querySelector('#df-5e928721-0199-424d-b167-46abad650ffa button');\n",
       "      quickchartButtonEl.style.display =\n",
       "        google.colab.kernel.accessAllowed ? 'block' : 'none';\n",
       "    })();\n",
       "  </script>\n",
       "</div>\n",
       "\n",
       "    </div>\n",
       "  </div>\n"
      ],
      "text/plain": [
       "   Density  BodyFat  Age  Weight  Height  Neck  Chest  Abdomen    Hip  Thigh  \\\n",
       "0   1.0708     12.3   23  154.25   67.75  36.2   93.1     85.2   94.5   59.0   \n",
       "1   1.0853      6.1   22  173.25   72.25  38.5   93.6     83.0   98.7   58.7   \n",
       "2   1.0414     25.3   22  154.00   66.25  34.0   95.8     87.9   99.2   59.6   \n",
       "3   1.0751     10.4   26  184.75   72.25  37.4  101.8     86.4  101.2   60.1   \n",
       "4   1.0340     28.7   24  184.25   71.25  34.4   97.3    100.0  101.9   63.2   \n",
       "\n",
       "   Knee  Ankle  Biceps  Forearm  Wrist  \n",
       "0  37.3   21.9    32.0     27.4   17.1  \n",
       "1  37.3   23.4    30.5     28.9   18.2  \n",
       "2  38.9   24.0    28.8     25.2   16.6  \n",
       "3  37.3   22.8    32.4     29.4   18.2  \n",
       "4  42.2   24.0    32.2     27.7   17.7  "
      ]
     },
     "execution_count": 13,
     "metadata": {},
     "output_type": "execute_result"
    }
   ],
   "source": [
    "# Load the dataset\n",
    "url = \"https://hbiostat.org/data/repo/bodyfat.csv\"\n",
    "data = pd.read_csv(url)\n",
    "data.head()"
   ]
  },
  {
   "cell_type": "code",
   "execution_count": 12,
   "id": "be8f31ac",
   "metadata": {
    "id": "be8f31ac"
   },
   "outputs": [],
   "source": [
    "# # Load the dataset\n",
    "# data = pd.read_csv('bodyfat.csv')"
   ]
  },
  {
   "cell_type": "code",
   "execution_count": 14,
   "id": "a37dd9d7",
   "metadata": {
    "id": "a37dd9d7"
   },
   "outputs": [],
   "source": [
    "# Separate features (X) and target (y)\n",
    "X = data.drop(columns=['BodyFat'])           # Predictor variables\n",
    "y = data['BodyFat']                          # Target variable\n",
    "\n",
    "# Standardize the features and target\n",
    "scaler_X = StandardScaler()\n",
    "scaler_y = StandardScaler()\n",
    "\n",
    "X = scaler_X.fit_transform(X)\n",
    "y = scaler_y.fit_transform(y.values.reshape(-1, 1)).flatten()"
   ]
  },
  {
   "cell_type": "markdown",
   "id": "ce69868c",
   "metadata": {
    "id": "ce69868c"
   },
   "source": [
    "#### Step 3: Define Train/Validation/Test Splits\n",
    "Set the data partitions as per the requirements."
   ]
  },
  {
   "cell_type": "code",
   "execution_count": 15,
   "id": "8a4b0b50",
   "metadata": {
    "id": "8a4b0b50"
   },
   "outputs": [],
   "source": [
    "# Split for 70% train, 15% validation, 15% test\n",
    "X_train, X_temp, y_train, y_temp = train_test_split(X, y, test_size=0.3, random_state=0)\n",
    "X_val, X_test, y_val, y_test = train_test_split(X_temp, y_temp, test_size=0.5, random_state=0)"
   ]
  },
  {
   "cell_type": "markdown",
   "id": "347fd5c6",
   "metadata": {
    "id": "347fd5c6"
   },
   "source": [
    "#### Step 4: Define the MLP Function\n",
    "Create a function to build an MLP model with variable hidden nodes and optional regularization."
   ]
  },
  {
   "cell_type": "code",
   "execution_count": 16,
   "id": "wvZpBIde8Hx0",
   "metadata": {
    "id": "wvZpBIde8Hx0"
   },
   "outputs": [],
   "source": [
    "from tensorflow.keras.models import Sequential\n",
    "from tensorflow.keras.layers import Dense\n",
    "from tensorflow.keras.optimizers import Adam\n",
    "from tensorflow.keras.regularizers import l2"
   ]
  },
  {
   "cell_type": "code",
   "execution_count": 17,
   "id": "af6e963b",
   "metadata": {
    "id": "af6e963b"
   },
   "outputs": [],
   "source": [
    "def build_mlp(input_dim, hidden_size, regularization=0):\n",
    "    model = Sequential([\n",
    "        Dense(hidden_size, activation='relu', input_dim=input_dim, kernel_regularizer=l2(regularization)),\n",
    "        Dense(1, activation='linear')\n",
    "    ])\n",
    "    model.compile(optimizer=Adam(learning_rate=0.01), loss='mse')\n",
    "    return model\n"
   ]
  },
  {
   "cell_type": "markdown",
   "id": "dfa3df24",
   "metadata": {
    "id": "dfa3df24"
   },
   "source": [
    "#### Step 5: Training and Evaluation Loop\n",
    "Implement a function to train and evaluate the model 10 times with random initializations."
   ]
  },
  {
   "cell_type": "code",
   "execution_count": 18,
   "id": "4b04584f",
   "metadata": {
    "id": "4b04584f"
   },
   "outputs": [],
   "source": [
    "def train_and_evaluate(X_train, y_train, X_val, y_val, X_test, y_test, hidden_size, train_ratio, val_ratio, test_ratio, regularization=0):\n",
    "    train_mses, val_mses, test_mses = [], [], []\n",
    "\n",
    "    for i in range(10):\n",
    "        # Build and initialize the model\n",
    "        model = build_mlp(X_train.shape[1], hidden_size, regularization)\n",
    "\n",
    "        # Train the model\n",
    "        history = model.fit(\n",
    "            X_train, y_train,\n",
    "            validation_data=(X_val, y_val),\n",
    "            epochs=100,\n",
    "            batch_size=32,\n",
    "            verbose=0\n",
    "        )\n",
    "\n",
    "        # Evaluate MSEs\n",
    "        train_mses.append(model.evaluate(X_train, y_train, verbose=0))\n",
    "        val_mses.append(model.evaluate(X_val, y_val, verbose=0))\n",
    "        test_mses.append(model.evaluate(X_test, y_test, verbose=0))\n",
    "\n",
    "    # Calculate statistics\n",
    "    return {\n",
    "        'train': {'mean': np.mean(train_mses), 'variance': np.var(train_mses)},\n",
    "        'val': {'mean': np.mean(val_mses), 'variance': np.var(val_mses)},\n",
    "        'test': {'mean': np.mean(test_mses), 'variance': np.var(test_mses)},\n",
    "    }"
   ]
  },
  {
   "cell_type": "markdown",
   "id": "4fdb1d91",
   "metadata": {
    "id": "4fdb1d91"
   },
   "source": [
    "#### Step 6: Run Experiments\n",
    "__Experiment 1: 15 Nodes__"
   ]
  },
  {
   "cell_type": "code",
   "execution_count": 19,
   "id": "1a9dcbb4",
   "metadata": {
    "colab": {
     "base_uri": "https://localhost:8080/"
    },
    "id": "1a9dcbb4",
    "outputId": "c1e7a54a-883c-4212-b144-b476480ff10c"
   },
   "outputs": [
    {
     "name": "stderr",
     "output_type": "stream",
     "text": [
      "/usr/local/lib/python3.10/dist-packages/keras/src/layers/core/dense.py:87: UserWarning: Do not pass an `input_shape`/`input_dim` argument to a layer. When using Sequential models, prefer using an `Input(shape)` object as the first layer in the model instead.\n",
      "  super().__init__(activity_regularizer=activity_regularizer, **kwargs)\n"
     ]
    }
   ],
   "source": [
    "result_15_nodes = train_and_evaluate(X_train, y_train, X_val, y_val, X_test, y_test, hidden_size=15, train_ratio=0.7, val_ratio=0.15, test_ratio=0.15)"
   ]
  },
  {
   "cell_type": "code",
   "execution_count": 20,
   "id": "O7J2mdrk9i9_",
   "metadata": {
    "colab": {
     "base_uri": "https://localhost:8080/"
    },
    "id": "O7J2mdrk9i9_",
    "outputId": "d268b2cc-9c1a-4d0d-9625-3384b273caad"
   },
   "outputs": [
    {
     "name": "stdout",
     "output_type": "stream",
     "text": [
      "Results for 15 Nodes:\n",
      "Train MSE Mean: 0.0079\n",
      "Train MSE Variance: 0.0000\n",
      "Validation MSE Mean: 0.0231\n",
      "Validation MSE Variance: 0.0001\n",
      "Test MSE Mean: 0.0282\n",
      "Test MSE Variance: 0.0000\n"
     ]
    }
   ],
   "source": [
    "# Print results with 4 decimal places\n",
    "print(\"Results for 15 Nodes:\")\n",
    "print(f\"Train MSE Mean: {result_15_nodes['train']['mean']:.4f}\")\n",
    "print(f\"Train MSE Variance: {result_15_nodes['train']['variance']:.4f}\")\n",
    "print(f\"Validation MSE Mean: {result_15_nodes['val']['mean']:.4f}\")\n",
    "print(f\"Validation MSE Variance: {result_15_nodes['val']['variance']:.4f}\")\n",
    "print(f\"Test MSE Mean: {result_15_nodes['test']['mean']:.4f}\")\n",
    "print(f\"Test MSE Variance: {result_15_nodes['test']['variance']:.4f}\")"
   ]
  },
  {
   "cell_type": "markdown",
   "id": "9b3f106d",
   "metadata": {
    "id": "9b3f106d"
   },
   "source": [
    "__Experiment 2: 2 Nodes__"
   ]
  },
  {
   "cell_type": "code",
   "execution_count": 21,
   "id": "72f3f131",
   "metadata": {
    "id": "72f3f131"
   },
   "outputs": [],
   "source": [
    "result_2_nodes = train_and_evaluate(X_train, y_train, X_val, y_val, X_test, y_test, hidden_size=2, train_ratio=0.3, val_ratio=0.2, test_ratio=0.5)"
   ]
  },
  {
   "cell_type": "code",
   "execution_count": 22,
   "id": "3gnyYmWQ990c",
   "metadata": {
    "colab": {
     "base_uri": "https://localhost:8080/"
    },
    "id": "3gnyYmWQ990c",
    "outputId": "3d21955d-be4a-47fe-9339-37486b90b361"
   },
   "outputs": [
    {
     "name": "stdout",
     "output_type": "stream",
     "text": [
      "Results for 2 Nodes:\n",
      "Train MSE Mean: 0.0347\n",
      "Train MSE Variance: 0.0002\n",
      "Validation MSE Mean: 0.0163\n",
      "Validation MSE Variance: 0.0001\n",
      "Test MSE Mean: 0.0305\n",
      "Test MSE Variance: 0.0000\n"
     ]
    }
   ],
   "source": [
    "# Print results with 4 decimal places\n",
    "print(\"Results for 2 Nodes:\")\n",
    "print(f\"Train MSE Mean: {result_2_nodes['train']['mean']:.4f}\")\n",
    "print(f\"Train MSE Variance: {result_2_nodes['train']['variance']:.4f}\")\n",
    "print(f\"Validation MSE Mean: {result_2_nodes['val']['mean']:.4f}\")\n",
    "print(f\"Validation MSE Variance: {result_2_nodes['val']['variance']:.4f}\")\n",
    "print(f\"Test MSE Mean: {result_2_nodes['test']['mean']:.4f}\")\n",
    "print(f\"Test MSE Variance: {result_2_nodes['test']['variance']:.4f}\")"
   ]
  },
  {
   "cell_type": "markdown",
   "id": "efc395fb",
   "metadata": {
    "id": "efc395fb"
   },
   "source": [
    "__Experiment 3: 80 Nodes__"
   ]
  },
  {
   "cell_type": "code",
   "execution_count": 23,
   "id": "f43aeb86",
   "metadata": {
    "id": "f43aeb86"
   },
   "outputs": [],
   "source": [
    "result_80_nodes = train_and_evaluate(X_train, y_train, X_val, y_val, X_test, y_test, hidden_size=80, train_ratio=0.3, val_ratio=0.2, test_ratio=0.5)"
   ]
  },
  {
   "cell_type": "code",
   "execution_count": 24,
   "id": "ZqNEsj4T-LL_",
   "metadata": {
    "colab": {
     "base_uri": "https://localhost:8080/"
    },
    "id": "ZqNEsj4T-LL_",
    "outputId": "df23d830-58fc-4738-9d8c-fea1e4cc6e38"
   },
   "outputs": [
    {
     "name": "stdout",
     "output_type": "stream",
     "text": [
      "Results for 80 Nodes:\n",
      "Train MSE Mean: 0.0075\n",
      "Train MSE Variance: 0.0000\n",
      "Validation MSE Mean: 0.0136\n",
      "Validation MSE Variance: 0.0000\n",
      "Test MSE Mean: 0.0258\n",
      "Test MSE Variance: 0.0000\n"
     ]
    }
   ],
   "source": [
    "# Print results with 4 decimal places\n",
    "print(\"Results for 80 Nodes:\")\n",
    "print(f\"Train MSE Mean: {result_80_nodes['train']['mean']:.4f}\")\n",
    "print(f\"Train MSE Variance: {result_80_nodes['train']['variance']:.4f}\")\n",
    "print(f\"Validation MSE Mean: {result_80_nodes['val']['mean']:.4f}\")\n",
    "print(f\"Validation MSE Variance: {result_80_nodes['val']['variance']:.4f}\")\n",
    "print(f\"Test MSE Mean: {result_80_nodes['test']['mean']:.4f}\")\n",
    "print(f\"Test MSE Variance: {result_80_nodes['test']['variance']:.4f}\")"
   ]
  },
  {
   "cell_type": "markdown",
   "id": "6a38382f",
   "metadata": {
    "id": "6a38382f"
   },
   "source": [
    "__Experiment 4: 80 Nodes with Regularization__"
   ]
  },
  {
   "cell_type": "code",
   "execution_count": 25,
   "id": "6960c8cb",
   "metadata": {
    "id": "6960c8cb"
   },
   "outputs": [],
   "source": [
    "result_80_nodes_reg_01 = train_and_evaluate(X_train, y_train, X_val, y_val, X_test, y_test, hidden_size=80, train_ratio=0.3, val_ratio=0.2, test_ratio=0.5, regularization=0.1)\n",
    "result_80_nodes_reg_05 = train_and_evaluate(X_train, y_train, X_val, y_val, X_test, y_test, hidden_size=80, train_ratio=0.3, val_ratio=0.2, test_ratio=0.5, regularization=0.5)\n"
   ]
  },
  {
   "cell_type": "code",
   "execution_count": 26,
   "id": "iD78zh31-oJJ",
   "metadata": {
    "colab": {
     "base_uri": "https://localhost:8080/"
    },
    "id": "iD78zh31-oJJ",
    "outputId": "4e2cac49-8ca6-4b42-acec-3e140d71b09a"
   },
   "outputs": [
    {
     "name": "stdout",
     "output_type": "stream",
     "text": [
      "Results for 80 Nodes with Regularization (0.1):\n",
      "Train MSE Mean: 0.0507\n",
      "Train MSE Variance: 0.0003\n",
      "Validation MSE Mean: 0.0397\n",
      "Validation MSE Variance: 0.0002\n",
      "Test MSE Mean: 0.0492\n",
      "Test MSE Variance: 0.0003\n"
     ]
    }
   ],
   "source": [
    "# Print results with 4 decimal places for regularization = 0.1\n",
    "print(\"Results for 80 Nodes with Regularization (0.1):\")\n",
    "print(f\"Train MSE Mean: {result_80_nodes_reg_01['train']['mean']:.4f}\")\n",
    "print(f\"Train MSE Variance: {result_80_nodes_reg_01['train']['variance']:.4f}\")\n",
    "print(f\"Validation MSE Mean: {result_80_nodes_reg_01['val']['mean']:.4f}\")\n",
    "print(f\"Validation MSE Variance: {result_80_nodes_reg_01['val']['variance']:.4f}\")\n",
    "print(f\"Test MSE Mean: {result_80_nodes_reg_01['test']['mean']:.4f}\")\n",
    "print(f\"Test MSE Variance: {result_80_nodes_reg_01['test']['variance']:.4f}\")"
   ]
  },
  {
   "cell_type": "code",
   "execution_count": 27,
   "id": "8OK8kxTy-y1k",
   "metadata": {
    "colab": {
     "base_uri": "https://localhost:8080/"
    },
    "id": "8OK8kxTy-y1k",
    "outputId": "5f432cc7-4d42-4225-de3f-9383cd1e34ef"
   },
   "outputs": [
    {
     "name": "stdout",
     "output_type": "stream",
     "text": [
      "\n",
      "Results for 80 Nodes with Regularization (0.5):\n",
      "Train MSE Mean: 0.0906\n",
      "Train MSE Variance: 0.0014\n",
      "Validation MSE Mean: 0.0780\n",
      "Validation MSE Variance: 0.0011\n",
      "Test MSE Mean: 0.0885\n",
      "Test MSE Variance: 0.0015\n"
     ]
    }
   ],
   "source": [
    "# Print results with 4 decimal places for regularization = 0.5\n",
    "print(\"\\nResults for 80 Nodes with Regularization (0.5):\")\n",
    "print(f\"Train MSE Mean: {result_80_nodes_reg_05['train']['mean']:.4f}\")\n",
    "print(f\"Train MSE Variance: {result_80_nodes_reg_05['train']['variance']:.4f}\")\n",
    "print(f\"Validation MSE Mean: {result_80_nodes_reg_05['val']['mean']:.4f}\")\n",
    "print(f\"Validation MSE Variance: {result_80_nodes_reg_05['val']['variance']:.4f}\")\n",
    "print(f\"Test MSE Mean: {result_80_nodes_reg_05['test']['mean']:.4f}\")\n",
    "print(f\"Test MSE Variance: {result_80_nodes_reg_05['test']['variance']:.4f}\")"
   ]
  },
  {
   "cell_type": "markdown",
   "id": "f0d430dc",
   "metadata": {
    "id": "f0d430dc"
   },
   "source": [
    "#### Step 7: Tabulate Results\n",
    "Compile the results into a table for comparison."
   ]
  },
  {
   "cell_type": "code",
   "execution_count": 28,
   "id": "1c739aba",
   "metadata": {
    "colab": {
     "base_uri": "https://localhost:8080/"
    },
    "id": "1c739aba",
    "outputId": "88ecbd60-5788-4f51-dffd-bbe21c975b21"
   },
   "outputs": [
    {
     "name": "stdout",
     "output_type": "stream",
     "text": [
      "        Configuration  Train MSE Mean  Train MSE Variance  Val MSE Mean  \\\n",
      "0            15 Nodes        0.007944            0.000010      0.023078   \n",
      "1             2 Nodes        0.034673            0.000236      0.016295   \n",
      "2            80 Nodes        0.007502            0.000038      0.013569   \n",
      "3  80 Nodes (Reg=0.1)        0.050677            0.000280      0.039729   \n",
      "4  80 Nodes (Reg=0.5)        0.090556            0.001358      0.078018   \n",
      "\n",
      "   Val MSE Variance  \n",
      "0          0.000075  \n",
      "1          0.000060  \n",
      "2          0.000042  \n",
      "3          0.000205  \n",
      "4          0.001078  \n"
     ]
    }
   ],
   "source": [
    "import pandas as pd\n",
    "\n",
    "# Compile results\n",
    "results = pd.DataFrame({\n",
    "    'Configuration': ['15 Nodes', '2 Nodes', '80 Nodes', '80 Nodes (Reg=0.1)', '80 Nodes (Reg=0.5)'],\n",
    "    'Train MSE Mean': [result_15_nodes['train']['mean'], result_2_nodes['train']['mean'], result_80_nodes['train']['mean'], result_80_nodes_reg_01['train']['mean'], result_80_nodes_reg_05['train']['mean']],\n",
    "    'Train MSE Variance': [result_15_nodes['train']['variance'], result_2_nodes['train']['variance'], result_80_nodes['train']['variance'], result_80_nodes_reg_01['train']['variance'], result_80_nodes_reg_05['train']['variance']],\n",
    "    'Val MSE Mean': [result_15_nodes['val']['mean'], result_2_nodes['val']['mean'], result_80_nodes['val']['mean'], result_80_nodes_reg_01['val']['mean'], result_80_nodes_reg_05['val']['mean']],\n",
    "    'Val MSE Variance': [result_15_nodes['val']['variance'], result_2_nodes['val']['variance'], result_80_nodes['val']['variance'], result_80_nodes_reg_01['val']['variance'], result_80_nodes_reg_05['val']['variance']]\n",
    "})\n",
    "\n",
    "print(results)\n"
   ]
  },
  {
   "cell_type": "code",
   "execution_count": 32,
   "id": "-DGb-m_ZgjQN",
   "metadata": {
    "colab": {
     "base_uri": "https://localhost:8080/"
    },
    "id": "-DGb-m_ZgjQN",
    "outputId": "900f3430-8fa0-414a-c8c5-d5cf11139531"
   },
   "outputs": [
    {
     "name": "stdout",
     "output_type": "stream",
     "text": [
      "Results saved to 'results_summary.csv'\n"
     ]
    }
   ],
   "source": [
    "# Save the DataFrame to a CSV file with values rounded to 5 decimal places\n",
    "results.to_csv('results_summary.csv', float_format='%.7f', index=False)\n",
    "\n",
    "print(\"Results saved to 'results_summary.csv'\")\n",
    "\n"
   ]
  },
  {
   "cell_type": "markdown",
   "id": "24c972ae",
   "metadata": {
    "id": "24c972ae"
   },
   "source": [
    "#### Step 8: Write Observations\n",
    "* __Effect of Hidden Layer Size:__ Compare the results for 2, 15, and 80 nodes to analyze the impact of model capacity.\n",
    "* __Effect of Regularization:__ Observe how weight decay affects generalization and overfitting.\n"
   ]
  }
 ],
 "metadata": {
  "colab": {
   "provenance": []
  },
  "kernelspec": {
   "display_name": "Python 3 (ipykernel)",
   "language": "python",
   "name": "python3"
  },
  "language_info": {
   "codemirror_mode": {
    "name": "ipython",
    "version": 3
   },
   "file_extension": ".py",
   "mimetype": "text/x-python",
   "name": "python",
   "nbconvert_exporter": "python",
   "pygments_lexer": "ipython3",
   "version": "3.8.18"
  }
 },
 "nbformat": 4,
 "nbformat_minor": 5
}
